{
 "cells": [
  {
   "cell_type": "code",
   "execution_count": 1,
   "id": "initial_id",
   "metadata": {
    "ExecuteTime": {
     "end_time": "2025-03-18T08:53:15.788766Z",
     "start_time": "2025-03-18T08:53:15.786357Z"
    }
   },
   "outputs": [],
   "source": [
    "from cbsurge.util.display_geodata import display_data"
   ]
  },
  {
   "cell_type": "code",
   "execution_count": 2,
   "id": "97180ad227ae00d4",
   "metadata": {
    "ExecuteTime": {
     "end_time": "2025-03-13T14:44:10.468653Z",
     "start_time": "2025-03-13T14:44:10.393211Z"
    }
   },
   "outputs": [],
   "source": [
    "import geopandas as gpd\n",
    "import leafmap"
   ]
  },
  {
   "cell_type": "code",
   "execution_count": 3,
   "id": "424246fb50f35938",
   "metadata": {
    "ExecuteTime": {
     "end_time": "2025-03-13T12:11:10.638908Z",
     "start_time": "2025-03-13T12:11:10.557060Z"
    }
   },
   "outputs": [],
   "source": [
    "gdf = gpd.read_file('../nairobi/data/nairobi.gpkg', layer='stats.electricity')"
   ]
  },
  {
   "cell_type": "code",
   "execution_count": 6,
   "id": "e863209291f3ff0f",
   "metadata": {
    "ExecuteTime": {
     "end_time": "2025-03-13T12:11:11.297456Z",
     "start_time": "2025-03-13T12:11:10.744764Z"
    }
   },
   "outputs": [
    {
     "data": {
      "application/vnd.jupyter.widget-view+json": {
       "model_id": "7d8f43a92d2a44ef98eb5c3568a49b18",
       "version_major": 2,
       "version_minor": 0
      },
      "text/plain": [
       "HBox(children=(Dropdown(description='Column:', options=('name', 'admin1_name', 'admin0_name', 'undp_admin_leve…"
      ]
     },
     "metadata": {},
     "output_type": "display_data"
    },
    {
     "data": {
      "application/vnd.jupyter.widget-view+json": {
       "model_id": "f1d88625e9e44789bdb50e724436826b",
       "version_major": 2,
       "version_minor": 0
      },
      "text/plain": [
       "Map(center=[-1.2907794999999995, 36.87149049999999], controls=(ZoomControl(options=['position', 'zoom_in_text'…"
      ]
     },
     "metadata": {},
     "output_type": "display_data"
    }
   ],
   "source": [
    "m = display_data(gdf=gdf)"
   ]
  },
  {
   "cell_type": "code",
   "execution_count": 5,
   "id": "ad24b0a2-5710-49cf-b194-ec615f11b5d3",
   "metadata": {},
   "outputs": [
    {
     "name": "stdout",
     "output_type": "stream",
     "text": [
      "['OpenStreetMap', 'raster_layer']\n"
     ]
    }
   ],
   "source": [
    "print(m.get_layer_names())"
   ]
  },
  {
   "cell_type": "code",
   "execution_count": null,
   "id": "456ba228-31f1-40fe-aed7-e9b3010c9598",
   "metadata": {},
   "outputs": [],
   "source": []
  }
 ],
 "metadata": {
  "kernelspec": {
   "display_name": "Python 3 (ipykernel)",
   "language": "python",
   "name": "python3"
  },
  "language_info": {
   "codemirror_mode": {
    "name": "ipython",
    "version": 3
   },
   "file_extension": ".py",
   "mimetype": "text/x-python",
   "name": "python",
   "nbconvert_exporter": "python",
   "pygments_lexer": "ipython3",
   "version": "3.12.3"
  }
 },
 "nbformat": 4,
 "nbformat_minor": 5
}
