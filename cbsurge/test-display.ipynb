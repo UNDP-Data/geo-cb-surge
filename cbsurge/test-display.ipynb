{
 "cells": [
  {
   "cell_type": "code",
   "execution_count": 1,
   "id": "initial_id",
   "metadata": {
    "ExecuteTime": {
     "end_time": "2025-03-17T08:11:37.617459Z",
     "start_time": "2025-03-17T08:11:36.629300Z"
    }
   },
   "outputs": [],
   "source": [
    "from cbsurge.util.display_geodata import display_data"
   ]
  },
  {
   "cell_type": "code",
   "execution_count": 2,
   "id": "97180ad227ae00d4",
   "metadata": {
    "ExecuteTime": {
     "end_time": "2025-03-13T14:44:10.468653Z",
     "start_time": "2025-03-13T14:44:10.393211Z"
    }
   },
   "outputs": [],
   "source": [
    "import geopandas as gpd\n",
    "import leafmap"
   ]
  },
  {
   "cell_type": "code",
   "execution_count": 3,
   "id": "424246fb50f35938",
   "metadata": {
    "ExecuteTime": {
     "end_time": "2025-03-13T12:11:10.638908Z",
     "start_time": "2025-03-13T12:11:10.557060Z"
    }
   },
   "outputs": [],
   "source": [
    "gdf = gpd.read_file('../nairobi/data/nairobi.gpkg', layer='stats.electricity')"
   ]
  },
  {
   "cell_type": "code",
   "execution_count": 4,
   "id": "e863209291f3ff0f",
   "metadata": {
    "ExecuteTime": {
     "end_time": "2025-03-13T12:11:11.297456Z",
     "start_time": "2025-03-13T12:11:10.744764Z"
    }
   },
   "outputs": [
    {
     "name": "stdout",
     "output_type": "stream",
     "text": [
      "CALLING DISPLAY GEODATA\n",
      "Validating raster data...\n"
     ]
    },
    {
     "data": {
      "application/vnd.jupyter.widget-view+json": {
       "model_id": "5168092d3ba240cfba6237a5f11606ef",
       "version_major": 2,
       "version_minor": 0
      },
      "text/plain": [
       "HBox(children=(Dropdown(description='Colormap:', index=176, options=('Accent', 'Accent_r', 'Blues', 'Blues_r',…"
      ]
     },
     "metadata": {},
     "output_type": "display_data"
    },
    {
     "data": {
      "application/vnd.jupyter.widget-view+json": {
       "model_id": "9dc8f48ca95a4fb19aac847689523a1f",
       "version_major": 2,
       "version_minor": 0
      },
      "text/plain": [
       "Map(center=[-1.290837, 36.871246], controls=(ZoomControl(options=['position', 'zoom_in_text', 'zoom_in_title',…"
      ]
     },
     "metadata": {},
     "output_type": "display_data"
    }
   ],
   "source": [
    "m = display_data(raster='../nairobi/data/population/male_active/male_active.tif')"
   ]
  },
  {
   "cell_type": "code",
   "execution_count": 5,
   "id": "ad24b0a2-5710-49cf-b194-ec615f11b5d3",
   "metadata": {},
   "outputs": [
    {
     "name": "stdout",
     "output_type": "stream",
     "text": [
      "['OpenStreetMap', 'raster_layer']\n"
     ]
    }
   ],
   "source": [
    "print(m.get_layer_names())"
   ]
  },
  {
   "cell_type": "code",
   "execution_count": null,
   "id": "456ba228-31f1-40fe-aed7-e9b3010c9598",
   "metadata": {},
   "outputs": [],
   "source": []
  }
 ],
 "metadata": {
  "kernelspec": {
   "display_name": "Python 3 (ipykernel)",
   "language": "python",
   "name": "python3"
  },
  "language_info": {
   "codemirror_mode": {
    "name": "ipython",
    "version": 3
   },
   "file_extension": ".py",
   "mimetype": "text/x-python",
   "name": "python",
   "nbconvert_exporter": "python",
   "pygments_lexer": "ipython3",
   "version": "3.12.3"
  }
 },
 "nbformat": 4,
 "nbformat_minor": 5
}
